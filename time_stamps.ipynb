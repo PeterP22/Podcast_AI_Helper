{
  "nbformat": 4,
  "nbformat_minor": 0,
  "metadata": {
    "colab": {
      "provenance": [],
      "gpuType": "V100"
    },
    "kernelspec": {
      "name": "python3",
      "display_name": "Python 3"
    },
    "language_info": {
      "name": "python"
    },
    "accelerator": "GPU"
  },
  "cells": [
    {
      "cell_type": "markdown",
      "source": [
        "Updated notebook now that actually auto generates time stamps for the podcast so people can skip to their favourite section."
      ],
      "metadata": {
        "id": "3vq3MiSGEwyS"
      }
    },
    {
      "cell_type": "code",
      "execution_count": 30,
      "metadata": {
        "id": "6V1UBzzZB3uS"
      },
      "outputs": [],
      "source": [
        "API_TOKEN = \"\" # will be importing my API key so I can use the features in LeMUR to"
      ]
    },
    {
      "cell_type": "code",
      "source": [
        "%pip install \"assemblyai>=0.15\" --quiet # install the AssemblyAI Python SDK which grants us access to LeMUR in just a few short lines of code"
      ],
      "metadata": {
        "colab": {
          "base_uri": "https://localhost:8080/"
        },
        "id": "4BS8hvcFFbri",
        "outputId": "d5163213-da2c-422f-ac82-baed1c167d3f"
      },
      "execution_count": 3,
      "outputs": [
        {
          "output_type": "stream",
          "name": "stdout",
          "text": [
            "\u001b[?25l     \u001b[90m━━━━━━━━━━━━━━━━━━━━━━━━━━━━━━━━━━━━━━━━\u001b[0m \u001b[32m0.0/65.4 kB\u001b[0m \u001b[31m?\u001b[0m eta \u001b[36m-:--:--\u001b[0m\r\u001b[2K     \u001b[90m━━━━━━━━━━━━━━━━━━━━━━━━━━━━━━━━━━━━━━━━\u001b[0m \u001b[32m65.4/65.4 kB\u001b[0m \u001b[31m2.4 MB/s\u001b[0m eta \u001b[36m0:00:00\u001b[0m\n",
            "\u001b[2K     \u001b[90m━━━━━━━━━━━━━━━━━━━━━━━━━━━━━━━━━━━━━━━━\u001b[0m \u001b[32m75.9/75.9 kB\u001b[0m \u001b[31m6.9 MB/s\u001b[0m eta \u001b[36m0:00:00\u001b[0m\n",
            "\u001b[2K     \u001b[90m━━━━━━━━━━━━━━━━━━━━━━━━━━━━━━━━━━━━━━━━\u001b[0m \u001b[32m130.2/130.2 kB\u001b[0m \u001b[31m12.1 MB/s\u001b[0m eta \u001b[36m0:00:00\u001b[0m\n",
            "\u001b[2K     \u001b[90m━━━━━━━━━━━━━━━━━━━━━━━━━━━━━━━━━━━━━━━━\u001b[0m \u001b[32m77.0/77.0 kB\u001b[0m \u001b[31m9.9 MB/s\u001b[0m eta \u001b[36m0:00:00\u001b[0m\n",
            "\u001b[2K     \u001b[90m━━━━━━━━━━━━━━━━━━━━━━━━━━━━━━━━━━━━━━━━\u001b[0m \u001b[32m58.3/58.3 kB\u001b[0m \u001b[31m6.8 MB/s\u001b[0m eta \u001b[36m0:00:00\u001b[0m\n",
            "\u001b[?25h"
          ]
        }
      ]
    },
    {
      "cell_type": "code",
      "source": [
        "import assemblyai as aai # import the package"
      ],
      "metadata": {
        "id": "cs6UlBEiFkN9"
      },
      "execution_count": 31,
      "outputs": []
    },
    {
      "cell_type": "code",
      "source": [
        "aai.settings.api_key = f\"{API_TOKEN}\" # set the API token"
      ],
      "metadata": {
        "id": "0LWVpTPnFqUN"
      },
      "execution_count": 32,
      "outputs": []
    },
    {
      "cell_type": "code",
      "source": [
        "transcriber = aai.Transcriber(config=aai.TranscriptionConfig(auto_chapters=True)) # create a transcriber object\n",
        "transcript = transcriber.transcribe(\"/content/podcasts/Jesse_Hutabarat.mp3\") # transcribe the podcast by passing through the file path located in the podcasts folder\n",
        "if transcript.error:\n",
        "    print(transcript.error)\n",
        "else:\n",
        "    print(\"Success!\")\n"
      ],
      "metadata": {
        "colab": {
          "base_uri": "https://localhost:8080/"
        },
        "id": "kTXkTOOfFvSZ",
        "outputId": "6aaea3c8-3f62-42b6-e59e-c96205921805"
      },
      "execution_count": 48,
      "outputs": [
        {
          "output_type": "stream",
          "name": "stdout",
          "text": [
            "Success!\n"
          ]
        }
      ]
    },
    {
      "cell_type": "markdown",
      "source": [
        "Successful transcription which means we now have access to a unique transcript ID"
      ],
      "metadata": {
        "id": "NjZtorEsHytZ"
      }
    },
    {
      "cell_type": "code",
      "source": [
        "transcript.id"
      ],
      "metadata": {
        "colab": {
          "base_uri": "https://localhost:8080/",
          "height": 35
        },
        "id": "V9D2v1rRHb34",
        "outputId": "9d55a9d5-e2a1-4808-df0d-1e7bf281e2ce"
      },
      "execution_count": 49,
      "outputs": [
        {
          "output_type": "execute_result",
          "data": {
            "text/plain": [
              "'455e56b9-b157-4eda-812d-3d580c8d3811'"
            ],
            "application/vnd.google.colaboratory.intrinsic+json": {
              "type": "string"
            }
          },
          "metadata": {},
          "execution_count": 49
        }
      ]
    },
    {
      "cell_type": "code",
      "source": [
        "TRANSCRIPT_ID = transcript.id"
      ],
      "metadata": {
        "id": "iXZxJSxGILJu"
      },
      "execution_count": 50,
      "outputs": []
    },
    {
      "cell_type": "code",
      "source": [
        "transcript_from_id = aai.Transcript.get_by_id(TRANSCRIPT_ID)"
      ],
      "metadata": {
        "id": "rFZ4hzkfH7by"
      },
      "execution_count": 51,
      "outputs": []
    },
    {
      "cell_type": "markdown",
      "source": [
        "Now I will extend the functionality of this project to generate accurate and relevant time stamps for say a youtube video so people can skip to the parts they are most interested in."
      ],
      "metadata": {
        "id": "Mp1PeD7xhEAI"
      }
    },
    {
      "cell_type": "code",
      "source": [
        "# print the text\n",
        "print(transcript.text, end='\\n\\n')"
      ],
      "metadata": {
        "colab": {
          "base_uri": "https://localhost:8080/"
        },
        "id": "8YNhdHFbhL4t",
        "outputId": "7d545951-6488-44f7-ee11-a1f024ad2c15"
      },
      "execution_count": 52,
      "outputs": [
        {
          "output_type": "stream",
          "name": "stdout",
          "text": [
            "You have tuned in to the Evolve podcast, where we aim to solve worldwide strength and conditioning issues one episode at a time. So sit back, relax, grab your protein shake as we chat, chat with some of the greatest minds this industry has to offer. Welcome back to episode nine of the Evolve podcast. Today we have a very special guest, Jesse Hatabarat. Did I get that right? Yeah. Yep, you got that right. Sounds. It sounds about right. So Jesse is a powerlifter, he's a two time New South Wales state champion, and I believe he is number four ranked in the 93. Kilowatt had a very successful state champs in a couple of months ago and leading up to nationals in a month or two. What are we now? I think we are 36 days out. We're just a month out now. I'm pretty sure about six weeks or five and a half weeks now. Yeah, mate. Getting very excited. So we wanted to get Jesse on today, obviously talk about his journey, where he's come from. He's had a lot of success recently in the world of powering. He's seen some crazy, crazy progress and I think there's going to be a few big events coming up for him in the next coming months and coming years. We want to talk a few things about mindset, about training, and also about the new federation that's coming in Australia, the APA. So I think there's going to be some big changes in the world of australian powerlifting. So I'm very excited to get into that, mate. Before we start, five rapid fire questions. All right, let's do it. You can take as long or as little as you need to answer these, but just thought we'd hit you rapid fire. All right, number one, I know this is a bit of a funny one for a palafter. If you had to pick three exercises to do for the rest of your life, what would you do now? You know what, let's switch it up a little bit. I reckon bicep curls, bicep curls. Lap pull downs, because I love feeling my lats. And let's do the hack squat as well. Hack squat? Yeah. Good choices. I feel like anyone who's advanced enough in power thing just knows that there's good stuff that gives you good bang for your buck. Bicep curl is obviously the best bang for your buck out there. Happy days. That's it. Beautiful. Post workout meal of choice. If you can choose one for the rest of your life, what would it be? My girlfriend knows this answer, so I always have a steak and cheese sandwich after training. Steak and cheese sandwich. Because I finished training so late, and I just want to make something that's ten minutes, something quick. So just get a wrap, make myself a steak. So I'll use salt, pepper, garlic, paprika, and then chop it up, throw it in the wrap, put some cheese, and then sandwich, press it, get it all melted. Have some chili there as well. Unreal. So if you could just send me that recipe afterwards, that'd be fantastic. I need one as well. Question number three. If you could attend one sporting event in history, what would it be? That's a hard. Yeah. UFC, I reckon. UFC. There's so many sports out there that I have random interests in. If there was one event in all of history, say, in the UFC over the last 1020 years that you could choose to be at, is there one that takes the cake? Okay. I have a lot of UFC fighters that I've loved watching over the years. I reckon maybe George St. Pierre's last comp, last fight, his last retirement, he was dominant. That guy was crazy, man. And then he was dominant. What, now he does movies or something? Now? I saw him in the. One of the Captain America movies. I don't know. No way. No one noticed? Yeah, no one noticed. He was in, I think it was Captain America and the Winter Soldier. You first see him when he's on the know, he jumps out of the. He comes. He comes in, goes straight into the water. And one of the last fight scenes on that boat is with George St. Pierre. That's crazy. He does all these martial art tricks and stuff. I love how the UFC guys are getting a bit of a spin off in movies. Like, I saw there was, like, Ronda Rousey made, like, a mission impossible. Like, you just see a few of them here and there. There's a new one with Conor McGregor. Roundhouse, roundhouse, roundhouse, I think on Amazon. The trailer looks good. The trailer looked good, but. Yeah, like, everyone was talking shit about McGregor, but he looks. I mean, I think he's just acting like himself. He's just playing himself, which works. Beautiful. So question number four. Bit of a deeper question. You can delve as much or as little as you like into this. What's your life motto? I don't even have a life motto. All right. I think my best life motto that I can think of right now to just show up, just show up. Just show up. Yeah, mate. I love that. Yeah, that's very applicable. Number five, wanted to get your take on this. What would you rather win nationals with an average total as a result of the favorite bombing out or come second. After the best performance and the best battle of your career, I'd definitely be more happy to come second. Be happy to come second. Be happy to come second. I hate losing to first place but if it was a good battle and it was worth my time, definitely I think I'd choose that second option. Yeah. So I don't think the satisfaction would quite be there if you knew that there was a big chance of you coming second. But the guy bombed out. Yeah, fair play. I think it's such an interesting question that plays into the mind of elite powers where it's just like, is your goal purely winning? Is it like I need to hit that top spot at all costs or is it just. No, I want to showcase what I can do. I want to show everyone that I'm strong. I guess it depends on the situation of the day and what comp you're doing as well. Beautiful, mate. Well done. Handle those with ease. Thank you. Let's get into it. So, mate, obviously you're at a great level now. You've achieved a lot so far in the world of australian powerlifting. What got you here? What got you interested? Where did your journey begin? Give us the Jesse story. So I guess my journey in the gym, at least that would start probably all the way back in 2015. It has been quite a while. I've been in the gym scene for almost ten years now. It's crazy, isn't it? Yeah, time does fly. I guess when I was in year eleven, just like any other guy, we probably would have watched that Ziz video on YouTube, the Ziz legacy video with that famous song that he has and you kind of look at that video and you're just like, damn, I want to look like that guy one day. Go to all these festivals and stuff and you get bigger and you get attention for the girls. That's something that I really looked up to when I was a lot younger in high school. Went to an all boys school as well. So I thought that was going to be my lifestyle coming out of high school and moving into uni, but I guess, yeah. So I started at crunch back in 2015 when I was in year eleven and year twelve, just training weights, trying to get bigger. Your usual high schooler that would be at the gym, spending 2 hours on the bench press. Like all of us, we've all been there. And eventually that membership did expire. And me being me, I didn't have my license when that gym membership expired, finishing up year twelve. So I looked for the closest gym membership. Well, gym that was close to home, and it just happened to have been Adonis. Athletic scramble, five minutes from home, walking distance. Took my scooter there every day. The OG Adonis? Yeah, the original Adonis. And that's essentially where I started my journey in powerlifting. I wouldn't say I started powerlifting straight away. When I started off in that gym, I was the kid that was in the squat rack that was curling a barbell. No crazy ways. I'd have my little tank top on every day. Little skinny kid. And I had no experience with power lifting whatsoever. Starting in that gym and watching all these people in that gym squatting. Massive weights. Well, massive for back then, 180 squat for me, that would have been a dream when I first started training, seeing four plates on each side, it's nuts. And I used to dream about those weights, and eventually I would have had to cave in and be like, all right, I want to see what I can do. See what would happen if I was to try give powerlifting a shot. I picked up my first coach at that gym as well, surprisingly enough. And that's really essentially where powerlifting had started for me. Unreal. Yeah. I find it amazing that a lot of those stories all start out very similar, where everyone just kind of falls into powerlifting for whatever particular reason. Yeah, I think these days it might be a little bit different with the power of social media, I think. Absolutely. You see so much online, you're like, I'll give that a shot. But for a lot of us, the only reason I started powerlifting was because someone in my gym was doing it. And I was like, I do a lot of squat, bench and dead already. That one guy that sits on the chair for, like, five minutes. What are you doing? Wasting time? Time that looks relaxing as hell. I might try that out. I was like, okay, I'll just do that a little bit more. I feel like it is a very common story just to be that guy that does do curls in the squat rack. And I guess you were lucky enough to be in an environment where you've surrounded and just had exposure to it, right time, it could have gone any other direction. If I had I not signed up at that gym, I probably wouldn't have started powerlifting. You'd probably see my crunch still. Yeah. So since then, since you started, obviously, you've been in the game, in the powerlifting game for, what, six or seven years now. Yeah. Throughout the time, I've no doubt that you've had peaks and troughs in progress in, I guess you can say, like, injuries, progression, whatever it is. What would you say were the keys to getting you to where you are now? Was it just a matter of consistency? Was it mindset? Was it enjoyment, a mixture of a whole bunch of stuff? Yeah. So I guess for me, in a sense, just training for me, is my enjoyment. The competitive side was just the sprinkle, the topping on the cake. But just being able to go to the gym, it feels like a blessing to me. Some people can't go train because they're hurt, like they're injured or whatever the case might be. But for me to be able to show up to the gym and be able to train, that's the part that kept me going. I do feel like I understand that life can be quite tough sometimes, and you might have had a long day, a long day at work, maybe. Uni threw assignments at you all week long and you've come to the end of the day and you don't want to train, but if you just show up to the gym, you're putting yourself ahead. I don't have a number for you, but so many other people that wouldn't have been asked to go to the gym. Absolutely. The bar is set quite low these days. I think it's just like if you're someone who can just push through the little bit of discomfort that you feel to get your ass there, it's like you're doing so much better than so many other people. Yeah, it's crazy. I guess that's what separates a lot of athletes from the rest of the gym community, because you still have your regular gym goers and stuff. But for some people just going to the gym, not to compete or anything, all it would take for some of those people is to have something go wrong at work. One small task didn't go their way and they might be grumpy for the rest of the day and they'll be like, I don't want to see anyone. I just want to go home, not do my gym session, and just chill. So true. Yeah. Unreal. So you mentioned earlier that you met your first coach at your first power of Ingym, Adonis Granville. Is that Tiana? You still with him now? Was that your first coach or did you have another coach? No, I think it would have been about three coaches to my current coach, which is tn now. So my first coach, I think his name was one of the first coaches at Gramble, and then after him, I moved away from coaching for maybe a year. Funny enough, that one year I moved away from coaching was when I also did my first comp. My first ever novice comp. Yeah, no coaching for my first comp. Don't need it, mate. But you know what? That first comp was what got me back to Adonis Granville and then I signed up under Mitch. Mitch Mayhew. I think that's how I pronounce his last name. And then during my time back at Adonis Granville, that's when I would have bumped into TN at some point probably at the end of 2018, which is where. Who I'm under now. So that's over five years with T, I think. I didn't sign up with him until towards the back end of 2019. But throughout all of 2019 and that back half of 2018, he was around that guy. Even though he wasn't, my coach would still critique me and be like, that was a good set. He'll give me those little tips to improve. He wasn't even a coach when I first met him, but from the first day I met him, you could see that this guy was a perfectionist. I think that's why I might have been a bit drawn towards him when he did start up his coaching business. But, yeah, I think four years ago. Yeah. Awesome. I think it's interesting looking at the progression of powerful coaching over the years. I think if you go back ten years ago, it's like, what? You might get a little program and you get a bit of guidance on technique and it's such an exact, yet kind of broad science now where it's like a lot of. It's just about the old cookie cutter. Yeah, the old cookie cutters. Five, three ones. It's crazy. You still see some people do those type of training these days. It's whatever you find. I still talk to people now and they'll tell me what program they're running and it's just like, oh, yeah, just like, found this guy on Google or whatever. In this day and age, there's so much information out there. Yeah, it's crazy. Back then, the standard was so low for coaching and you'd get the same program and you'd look at the next athlete under the same coach and you'd have the exact same program as it's. But I think it's been great to see the progression of power in coaching, the standard that coaches are having to hold themselves now and that athletes are holding their coaches to. So, obviously, you've been with t for a while. Over the last couple of years. What have you found that, I guess coaching traits that have been really successful for you things that have worked really well, maybe things that have been a bit trial and error, what's been of use to you? So I guess because I've been under t for so long, I've probably gone through a lot of my different phases in powerlifting with him, from going to doing no check ins for a few weeks to replying to him every single day, giving all my check ins every single bit of detail. And I think the best thing that I like in a coach is the communication. Because even though myself, as an athlete, you should be obliged to give your coach your updates, your programs, what you've done for the day, sometimes he will still go out of his way at the end of the week and be like, how have you been this week? What was training like? Not that I do that anymore. I do give anymore these days. I can't get away with that. But, yeah, I think communication is probably one of the big things that I look for in a coach. Being able to have really good conversations with them, tell them what's wrong, what's on your mind. I have this problem. My knee is niggling, and they'll be able to give you the adjustments you need to be able to keep going forward, work around all those small injuries and yeah, that's one of the first things that I look for in a coach. One of the other things I look for, I just mentioned as well, is looking for a perfectionist man. The fact that I have tea as a coach, to me, it's great because I met this guy back in 2019. We were just two guys at the gym training. We had our little group going on and stuff as well, and we had our little hangouts outside of the gym. We'd go play, like, bowling. And I think this was before I might have signed up under him. We went out to go play bowling, and this guy, just out of the blue, those are like all these crazy spins. It's crazy. When I go play bowling, I don't have any crazy experience or anything, but just roll the ball straight, see if you can get all of them. This guy comes in out of nowhere and he goes like a Footy pass on and it spins. And you can tell, like, this guy's done some kind of research. He's like a hyperachiever in, like, going into play, just casual bowling. I guess that's when I really started to notice that this guy makes sure he puts 100% into everything. That's something that I find is very crucial. And, yeah, this guy has a big multidiscipline background. I don't know if that's the right word, but he used to work in it right prior to being a coach or also on the side of being a coach. So this guy has spreadsheets for everything. This guy is a spreadsheet king. He was a spreadsheet master when I first signed up under him. When I first saw his program, I was like, damn, this is crazy. I've never seen a program like this before. Put all these numbers in and it'll start doing all these calculations and stuff. And even I don't know if you've seen one of his older posts about RPE to kilogram ratios. I remember I read that it was about your case study for states, is that right? And I remember me thinking, I was like, I've never thought about utilizing RPE in that way. That's crazy. I think I asked him as like, you know, did you get this under your coach? I think he was under Adam Jones when he dropped that post or when he started to think, know stuff. Like, you know, I thought, surely he got this off someone else. But no, he told me that he was the one. He figured it out is what he does to be calculative of his training numbers. And I do use his principles like that until today, and it still works. It gets more and more accurate over time. So that's something that I really like, someone that's calculative, essentially. I guess it gives you a lot of ease of mind as a lifter as well. I feel like as an athlete, we've all gone through those periods, whether it's like training by ourselves or training with one of our first coaches, where you just have those times where you're like, I don't know if what I'm doing is exactly right, whether it's from a programming point of view or like a technique point of view. And you're just like, I feel like I just want to bring it up to your coach. And they're like, no, it looks fine. And you're like, I want someone who can break this down to me, to its absolute nuts and bolts and give me clarity as to whether I'm on the right track and things are going really well, or it's like, no, there's improvement to be made. He's just so definitive. He'll give you an answer and it's like, less thought for you. It's just like, you know that he's doing the thinking. It makes my job as an athlete ten times easier. And that's your job's to lift. Yeah, exactly. And I guess that's why I've been under him for so long now. That's great. And then from a mindset point of view, I know you've touched on a few things previously in this episode, you mentioned one of the biggest things is just like the enjoyment factor. The competition side is a really nice side piece. It's like the cherry on top where you get to showcase everything that you've done in the gym. Is there anything that's got you to the point of, I guess, standing out above the rest in terms of powerlifting? You've obviously got yourself to a good level and I'm sure there are a lot of other lifters out there that enjoy it just as much as you do, but obviously aren't seeing maybe the rate of progression or maybe they haven't been in the game for a while. Do you think that there's anything that you attribute some of the, I guess you can say mental resilience, some of the progression that you've made? Like, have you played sports in the past? Have you competed at an elite level, any of that? So not many people know this about me, but I did competitive swimming prior to stepping foot in the gym. Yeah. Wow. So I think it was twelve years, maybe a bit over twelve years, actually. But I stopped swimming when I was 16, so probably about the same year I started going into the gym. And I guess because I started swimming at such a young age, swimming is a crazy sport, right? You need to do eight to nine sessions over the span of like Monday to Saturday. It's crazy huge. I used to wake up at like 04:00 a.m. In the morning and we'll get into the water freezing cold, even during winter, like an outdoor swimming pool in three degree temperature. We'd jump in the water, do like a two and a half hour session, finish up by like 730, go to school and then finish up school and go back to the swimming pool again. Doing that for, I think, the last six years of my training as a swimmer. That's the part that where a lot of my foundation is built, and I think most of it is just a discipline. Like the way that you see me today is built off my discipline from when I was in high school. Yeah, it makes sense, I guess, when you're comparing what you're doing now to your 04:00 a.m. Wake ups, like getting to the gym at 05:00 p.m. After work. Yeah, it's not so bad. It's not so bad. Yeah. Transitioning out of high school and into uni, life is going to throw things at you, like trying to be able to make enough money to buy some food, go out with friends, still have a social life, and still have all these uni assessments that you'd have to do. I reckon that was probably the most tough time when it came to training. When you're trying to transition out of high school and into early adulthood, trying to find a good balance between everything. That was definitely a bit of a pinnacle point in my training because I think had it gone the wrong way with my training progress, I probably wouldn't have continued. It makes sense when you get to the point we're at now, where we're working full time, our schedules are very locked in. Things come up here and there. We know how to adapt and adjust. But when you're at uni, when you're at that part after school, every day is different. Your schedule is like, one day you're over the place, finishing at 03:00 p.m. Other days it's like 08:00 p.m. So it makes sense. I'm not sure if you can relate to this as much as I can, but in terms of the discipline of training, I find that if you're training five days a week, you've been doing it for years, seeing steady progress, and people come up to you and say, are you so disciplined? How do you do it? How do you just focus every day? And I know for years, for me, it was just like, I don't really feel disciplined. I kind of just go to the gym and just enjoy it. And I think there is an element that there is work to be done to get to that point. I think there's a bit of the initial push through because maybe you don't understand exactly what you're doing. Maybe there's a bit of social anxiety with being at the gym, all these parts that come in, but now when you're at the point of you're in a gym with people that you like around you, you're in a results driven environment at a good part of the world. You've got a program by a coach, like, you know what you're doing, so all you need to do is just go to the gym and rock up. I don't know. I find that discipline is a weird thing in the world of sports, in the world of powerlifting, where you feel like you don't have as much discipline, you just more enjoy it. Yeah, you know what? That kind of goes back to the motto question just show up, just show up, just show up. I think if you do that for long enough, your training mindset will probably shift from your training being built on a foundation of motivation and to it being more of a habitual kind of training. So you want to be able to make training a habit more than I have to get training done at this day, at this time of the day. But I got to get through all this first. And you want it to be more like, all right, let's get my training done at this time of the day after I get all these done. I don't know if that makes sense. No, 100%. In the same way that you go to your job every day, you just wake up at eight, get there at nine. It's like you finish work, you get home, you don't really second guess it. There's never the thing of, maybe I'll have a quick little lay down to bed. Yeah, it's just time to go. Sean, take your pre workout. I've had a long day at work. Yeah, I need to get this done. I'm on prep. Yeah. I'm competing in a month or two. I don't know. If you look at yourself in maybe like 1015 years from now and you've skipped out on all those sessions over the years, man, you're not going to end up in this place that you want to be, right? I don't know. I want to look at myself in 1015 years from now and be like, I achieved all this in this sport while that sport was still growing. I feel like there's not a lot of attention on the sport right now, but as the generations keep coming in, like, all the younger kids start getting into the gym, it's going to be a big sport in 1015 years from now, I reckon. And I want to make sure that my name is somewhere up there on top to look at and be like, damn, he was able to do all that in those years. How did he do all that? It. Yeah. I feel like it's such a powerful mindset to have. I feel like we all get really trapped in this idea that right now is going to last a long time. The next 510 years is going to be. That's going to be forever. Like, next year is a long way away. But when the time actually does come, when we're in our matter, how hard you train, you're not going to be able to reach the peak of your strength or your physical capabilities. And I know for me personally, my biggest fear is looking back and saying, you could have done better. You could have done a little bit more, just a little bit more. You could have showed up 10% more. You could have just followed your program a few more times. And I think when you have those periods of training where you have a few weeks off because you're sick and getting back into the gym is such a hard thing because you've snapped out of that routine, it's like, yeah, man, what's 40 year old Angus going to think of that? He's going to be disappointed. Yeah. You just got to stay consistent, man. You can only go so far as to how far your mind will take you. Reaching peak physical strength is. It's only going to be driven by your mindset. If you're not mentally there every single day, there's almost no point in showing up sometimes. The world of power thing is, that is the case. Yeah, exactly. It's a long game. It's a long term game. Who stays in it the longest is the winner. You can think 1015 years, you got lots of time to get all this done, but that 1015 years is probably going to roll by pretty quick. Absolutely. We're already through the first month of the year this year. One fourth of the way through 2024, 2020. Felt like yesterday. Did feel like yesterday. All prior to all the COVID stuff, man. So, speaking of which, looking into the future for Jesse, what are your plans? I know we got nationals coming up in a month or two and then I assume there's some big goals coming up after that. Is it potentially going to IPF worlds? Is it, I don't know, 510 years. Looking at other sports, like, do you see yourself in the world of powerlifting? Like, staying here long term, what's in your mind? What do you thought? I wouldn't play any other sports, I reckon. No way. I think I was only built for this one. Wouldn't go back to swimming? No, I wouldn't go back to swimming. That's already long gone. Those days, if I was to play another sport, I'd probably play golf. I think we getting to that age now. So fun. So, in terms of goals for this year, obviously, the first one would be to get myself to nationals. I think this nationals is probably going to be one of the best performances that I will put up and probably one of the best comps I will probably compete at. We're in a brand new federation this year and the standard is going to be so much higher. I'm coming into this one. It's going to be the first APA comp. It's crazy when you think of it like that. Like, no locals just traded nationals. These guys just rocked up. Not even like two months ago or something, right? I think of the IPF affiliation, I think less than a month. Obviously, I want to get myself to the nationals first. That's going to be my first goal for this year. After that, I don't have any comps lined up in specific, but I did see the international calendar that APA did put out in one of their posts recently, and it looks like there's going to be games and Oceanas coming up this year as well. Is that second half or first half? I think it's towards October from when I saw the post IPF worlds one day. 100% that's a goal, but I think I've still got a long way to go to be able to achieve my spot to want to go to worlds. I think I'd want to at least put another 50 kilos on my total, get into the 800s before I step on that stage. But in terms of competing internationally, definitely Oceanas and games, one of the two this year, that'd be great. I've never competed overseas before. I haven't even been overseas before. Have you not been overseas before? So your trip after nationals is going to be the first time. First time overseas, yeah. Wow. I'm looking forward to that, man. It's been a long wait for me to go overseas. Get a good holiday in. Yeah. God, it's going to make the hopeful success of nationals just taste so much better. Yeah, exactly, man. It's going to be good. Who knows? Maybe if there's going to be an invitational comp at some point this year. I'm always going to be on the lookout for something. I think Aiden said he might do another first nations. Yeah. I do love competing at that gym with Hunter because every time I'm up there, we go for wine tours afterwards, take a weekend away. It's just a really well run comp. And I love Aiden's comments on what makes a good competition. I think I heard in one of his other podcasts and his number one priority is making sure the music is absolutely blasting. I'm like, we've had a few comps in last year that if someone can run a comp, it's that man can run a comp. I think I've done. I've done one comp at his now, and that was probably my favorite comp, I reckon. I think I liked First nations more than I did states just because of the way the comp was run. It's run, really, especially when they're running double platforms, huge warm up rooms, and everything just runs smoothly. And not only that, it's a shitload of fun. Like, you're competing or you're coaching out the back, and it's just high energy. Yeah, it's good energy out there. Yeah, it's good, mate, that's huge. I loved your mindset towards the future in the sense of, you know, that you want to be able to achieve that top spot, you want to be able to go to worlds, but you understand that the process to get there is it can be long. You could achieve it next year, but you also could achieve it in five years. And I think that's something that many lifters of varying degrees of experience could really benefit from. Like, how many times do you hear in the gym of, like, man, national champs, it's going to be me next year. It's just like, mate, you got a 400 kilo total at, like, 93 kilos. That's all right. You'll get there. But there's some work to do, and I think accepting that the winner of the sport is whoever plays it the longest, like, Adam Jones won 2022. Nats, how old is he? I don't know, but he's got two kids that'll show his age. The dad strength, man. He's got that dad. It's actually cheating, I think. Yeah. You know what? I guess in the australian scene, at least, he's definitely the person to be looking up to right now in the. He's running from the front of the pack right now. Absolutely. So he's the guy to beat right now. I don't know how many other people there are in between, because I reckon there's going to be some new faces we'll see in the circuit this year with the new federation. So without giving too much away, is there anything that you have hopes for for nationals? Whether it's totals, whether it's podiums, whether it's someone that you want to beat. What's on your mind? If it's someone that I want to beat, shout out to Callan Givens. Callan Givens. He's walked away. I think I've done two comps with him now. Beating me every single time. That guy's a beast, man. Strong, dude. So strong, it's crazy, dude. I remember the first time we faced off with each other. That was at states. Yeah. Is that where you came third? I came third, yeah. So I think it was him, myself, and Yanni and that guy walked on us, man. It was crazy. So he's also someone that's going to be hard to beat, but is the person to beat. I think he did say he was taking time off this year, so he messaged me the other long ago and he said, I'll see you on the platform next year. I love that. I do look forward to that. I hope that I can put on enough on my total to make it competitive, stand up with him, because I think. What did he total it? Well, it's like into the. He's got across the three, isn't he? It's going to be good to see, because I feel like some of these guys, particularly in the 93s, have been at this kind of level for a while and you've kind of skyrocketed. Like, I don't even know what your total was two years ago. I assume it was like in the 686, something like that. I think my first year of competitive lifting, 2021 or 2021 states I think it was. I only totaled like 680. It's crazy, isn't it? Looking at the comp pull from states this year, New South Wales states in the can probably name at least like twelve people that totaled more than that. And I won that states. You won the states? Yeah. Crazy, isn't it? And by a fair chunk as well. It was a pretty dominating performance. Like who came second? I think it was Josh. Josh Quinn. If it wasn't him, it was Joseph. But I think those two totaled roughly the same as each other. Those two are great, man. Like the huge squats, massive bench. I think they both squatted and benched more than I did. Just the total specialist, but it's good to see. I think ninety three s in particular. I can't speak too much for the other classes, but I know ninety three s. Looking back at nationals and state levels, there's been a few of the guys that have been at that top level for a while, and I think you coming through with putting 70 kilos on your total in the last couple of years, it's going to be really nice to see just the level of competition. Yeah. So speaking of which, onto our last little segment, I wanted to have a little bit of a chat about the new federation. Obviously, there's a lot of buz in the powerlifting world around it at the moment. What are your thoughts with it? My thoughts is that it's the perfect thing that we need right now to actually unify powerlifting. I think that's what Apu, the previous federation, was meant to do. I think it was meant to bring australian powerlifting together. They just felt short, didn't they? Started off really well and they were really kind of open to a lot of different feds and the collaboration, and then we won't speak too much about that. But this new fed, I feel like is the answer we've been looking for to make australian powerlifting like a force and having the best always against the best and having just everyone together, it's what we need right now. If you look back maybe four years ago, back to 2020, and if you take a look at the rankings, it's just gotten bigger and bigger every year. And if you look at the good lift points, not saying we have crazy good lip points in Australia at least, but if you take a benchmark at like 90, it would have gone from a handful of people in 2020 to a lot of people last year. I think there was more than 100 people that year of 90 plus. And using that momentum coming into this new federation, you're just going to see that skyrocket even more. I think we're in a really good spot right now with powerlifting in Australia. And if you just stay patient over the next few years, you're just going to see the competitive pool here. It's going to pop off if there's a time to get into. It's right now we're about to get really strong. People are starting to push, man. I don't know if you've seen a lot of the other people in the lifting community, especially to a lot of people that I hang out with out west, some of them are pushing like really hard, man. Some serious numbers. They haven't even competed in maybe the last twelve months, but they're pushing some big numbers out there and it's just going to get more and more competitive and at such young ages as well. Some of the juniors that are Juniors. Oh, my God. Crazy. A lot of the 21 to 24 year olds dominated open states this year across the weight classes. That's poor opens, man. They're trying to push him into retirement early. Going to retire at the age of 28, like, come on, man. Yeah, it's good to see it, but yeah, I think you're right. We're about to enter a really strong time in the world of powerlifting. It's exciting, man. When they send out the invitations for the first rounds, for the first round of invitations for nationals, I got a membership number straight away. Right. What a well run, fed generation. It's crazy to see you couldn't do that in the old one. I think you had to wait until the day of comp. I know, signed up, but I haven't got a number yet. We were dealing with that with junior states, with some of our guys last year where it was like, the day before, like, hey, I've emailed six times, I've renewed my membership, and, oh, yeah, just show up. I'm sure it'll be okay. Yeah, no, it's good. I had a look at their page the other day as well. And if you just take a look at their first 14 posts, they've only got 14 posts or something on their page. If you look at the outreach that they've had on every single post, man, it's reached such a wide community across Australia. And so good. If you compare it to the old federation, it doesn't even compare. Everyone's like, shared their posts. It's nuts. Yeah. Saw Raz put a little post up of just like. Yeah, shout out to Raz. Shout out to Raz. That was a good video he made. Yeah, that was a good video. You know, I looked at the page because of that video. I wanted to see what the latest updates were. And there were some updates. You know what I saw on their latest post? That there's a comp coming up. And something that Apu didn't do was this comp's got prize money coming up. I didn't realize that. Okay. It's not big or anything, but from a $500 share pool coming from zero over the last four years, it's an improvement, isn't it? And I hope to see that number go up a little bit as the sport Sussey get its exposure. Yeah, Matt and I touched on this in a previous episode of what's the future of powerlifting look like from the worldwide know, we're obviously at a great competitive level right now. From a competition standpoint, everyone's getting really strong. But is there another step when it comes to, I guess you can say, the entertainment side of powerlifting? Like, if you compare it to, like, CrossFit, blah blah, doing things like that is a step in the right direction where firstly, you're incentivizing the best lifters to get the best out of a competition, which just makes it more entertaining for those who are actually watching. They know that there's something on the line and they know that this comp means something to the lifters. Yeah, no, it's good. You know what? Coming into this nationals, something that I'm hoping for to see from a lot of the other lifters that are going to be at this comp is for people just to post more. That's probably the best way we're going to get exposure coming out of this comp. Also coming from the federation as all. And they've got heaps of stories that I've seen over the last few weeks posting about nationals coming up and all the other comps coming up after that. People just have to be a bit more. Well, not a bit more, but people just need to stay consistent with posting stuff to social media and we're just going to keep generating more and more of a bigger audience and we'll keep reaching more people. I think it's what got powerlifting to where it is now with the likes of Russell and America who have such large followings and all of a sudden because their followings, they just expose the world of powerlifting and now it's reached such a big audience, I think, yeah, people just need to stay consistent, keep posting it, keep reaching out. Hopefully Australia will reach that level one day. I think what we're probably missing is we don't have the gym when it comes to high school. Yeah, I think that's where the gray area is. I think it's because I don't know if this is correct or not, but when I was in high school, people would say you can't go to the gym until you reach year nine, you ten, because you're still growing. Exact same. Yeah. And I think that's where powerlifting is needed a bit more, I think. Bit better understanding of what's actually involved. It's not this scary thing that old russian men do. Yeah. It's going to stun your growth. We've got a lot of tall powers in the community that are quite young. Absolutely. Yeah. It'd be interesting to see. But my last question about the new fed is that, is there anything in particular that you'd want to see out of the new federation? That's a tough question, actually. I haven't really thought about this. Maybe. Yeah, just be guess. You know, there was a lot of dramas with the old one and they did try to censor a lot of stuff when it came to that. And then every time they did put something out for the members, it was not inappropriate in a sense, but it wasn't appropriate for the members. It should have been stuff that kept to themselves, maybe get more members involved, get the members say every time they want to make a decision. Because I know that in the last federation, when they made some of the new rules up, no members had any say in what direction that they wanted it in. And when they did make those new rules, no one was happy with them. So I guess maybe they can make a committee for the members, for someone to speak on their behalf. I don't know. Just something like that. There's a lot of good learning curves that we can use to go into this new year with the new federation. That's probably something that I want to see, at least. Yeah. Awesome, mate. We might wrap things up there. Any final words, any final words of wisdom from someone who's reached your level? I don't know. Training is good and all. Obviously, do what you need to do to get yourself into the position that you want to be as an athlete, but don't stop life for training. There's still stuff to enjoy out there. I have a lot of regrets from saying no to a lot of events with my friends growing up. Starting off as a power lifter, I missed out on so much. I'm 26 now, man, and I wish that I had gone to a lot more events in my earlier 20s, hanging out with friends, because next thing you know it, sure, you're competing at nationals coming up, but you're going to see a lot of your friends starting to get married. Yeah, exactly. That was something that hit me the other day, man. I was like, dude, I've missed out on so much. My mindset's always been on training, and my whole life just runs straight past me. Yeah, we're going to have a lot of years of training ahead of us. I think we're all going to be lifting barbells to some degree well into our retirement. But there is a side to our youth where we're not going to get a lot of that back, and I think enjoying as much of that as much as possible is going to be important. Absolutely. So that's probably the reason why I'm only getting my first holiday overseas this year, because I've just put it off for so long because I've always wanted to stay around, keep training. Awesome, mate. If people want to follow your journey, where can they find you? Mostly on Instagram or TikTok. You're on TikTok? Yeah, TikTok. It just goes by my first and last name. Beautiful. Easy to find. Yeah, we'll have that in the show notes, mate. Been a pleasure to have you on. Thanks for coming to evolve and checking out the place. Pleasure as always. Until next time. Thank you.\n",
            "\n"
          ]
        }
      ]
    },
    {
      "cell_type": "code",
      "source": [
        "# now we print the video sections information\n",
        "print(transcript.chapters)"
      ],
      "metadata": {
        "colab": {
          "base_uri": "https://localhost:8080/"
        },
        "id": "cpwuqAu7i5EI",
        "outputId": "d4291665-350a-4bd0-f742-675d5bdf8c0e"
      },
      "execution_count": 53,
      "outputs": [
        {
          "output_type": "stream",
          "name": "stdout",
          "text": [
            "[Chapter(summary=\" episode nine of the Evolve podcast. Today we have a very special guest, Jesse Hatabarat. Jesse is a powerlifter, a two time New South Wales state champion. Also talks about the new federation that's coming in Australia, the APA.\", headline='Evolve podcast features special guest Jesse Hatabarat from New South Wales', gist='Jesse Hatabarat', start=170, end=81346), Chapter(summary='Before we start, five rapid fire questions. You can take as long or as little as you need to answer these. If you can choose one for the rest of your life, what would it be? I always have a steak and cheese sandwich after training.', headline='Five rapid fire questions to help you improve after your workout', gist='5 Rapid Fire Questions', start=81378, end=157840), Chapter(summary=\"UFC fighters are getting a bit of a spin off in movies. There's a new one with Conor McGregor. If you could attend one sporting event in history, what would it be? UFC.\", headline='Question number three. If you could attend one sporting event in history, what would it be', gist='UFC vs WWE', start=158450, end=246458), Chapter(summary=\"So question number four. What's your life motto? I don't even have a life motto. I think my best life motto that I can think of right now to just show up.\", headline=\"So question number four. What's your life motto\", gist=\"What's Your Life Motto?\", start=246544, end=271410), Chapter(summary=\"Would you rather win nationals with an average total as a result of the favorite bombing out or come second? After the best performance and the best battle of your career, I'd definitely be more happy to come second.\", headline='What would you rather win nationals with an average total or come second', gist='What Would You Rather Win', start=272710, end=335974), Chapter(summary='Jesse started at crunch back in 2015 when he was in year eleven and year twelve. Has been in the gym scene for almost ten years now. What would you say were the keys to getting you to where you are now? Was it a mixture of enjoyment and consistency?', headline='Jesse started powerlifting in 2015 when he was in year eleven', gist=\"Jesse's Story in Powerlifting\", start=336012, end=664906), Chapter(summary='The powerlifter talks about the progression of powerful coaching over the years. He says the best thing that he likes in a coach is the communication. Looking for a perfectionist man is another thing he looks for.', headline='You met your first coach at your first power of Ingym', gist='The Importance of Powerful Coaching', start=664938, end=1084502), Chapter(summary=\"He's just so definitive. He'll give you an answer and it's like, less thought for you. It makes my job as an athlete ten times easier. And that's your job's to lift.\", headline=\"He's just so definitive. And I guess that's why I've been under him for so long now\", gist='Coach Underwood on His Advice', start=1084636, end=1100266), Chapter(summary='I did competitive swimming prior to stepping foot in the gym. The way that you see me today is built off my discipline from when I was in high school. Transitioning out of high school and into uni was probably the most tough time when it came to training.', headline=\"You've been training powerlifting for 12 years now\", gist='What Made You So Special?', start=1100368, end=1497322), Chapter(summary='One fourth of the way through 2024, 2020. Felt like yesterday. All prior to all the COVID stuff, man. Who stays in it the longest is the winner.', headline=\"Who stays in it the longest is the winner. We're already through the first month of the year this year\", gist='Who Stops in It the Longest?', start=1497376, end=1518340), Chapter(summary=\"Jesse's first goal for this year is to get himself to nationals. After that, he wants to compete internationally at games and Oceanas. Looking at other sports, do you see yourself in the world of powerlifting?\", headline='Looking into the future for Jesse, what are your plans', gist='Jesse on His Future', start=1518710, end=1797046), Chapter(summary=\"If it's someone that I want to beat, shout out to Callan Givens. That guy's a beast, man. I hope that I can put on enough on my total to make it competitive. It's going to be good to see just the level of competition.\", headline='Callan Givens is someone that you want to beat at nationals', gist=\"Australia's Josh Quinn on\", start=1797238, end=1949670), Chapter(summary=\"Aussie powerlifting is about to get really strong. People are starting to push, man. We're about to enter a really strong time in the world of powerlifting. And using that momentum coming into this new federation, you're just going to see that skyrocket even more.\", headline='Sussey: I think the new federation is the perfect solution for Australian powerlifting', gist='The New Federation', start=1949740, end=2181810), Chapter(summary='Australia is at a great competitive level right now. But is there another step when it comes to the entertainment side of powerlifting? People just need to stay consistent with posting stuff to social media. Hopefully Australia will reach that level one day.', headline='Matt: People need to post more on social media ahead of nationals', gist=\"What's the Future of Powerlifting?\", start=2181890, end=2312558), Chapter(summary=\"Is there anything in particular that you'd want to see out of the new federation? Maybe get more members involved, get the members say every time they want to make a decision. There's a lot of good learning curves that we can use to go into this new year.\", headline=\"Is there anything in particular you'd want to see out of the new fed\", gist='A New Fed Federation', start=2312644, end=2388060), Chapter(summary=\"Don't stop life for training. There's still stuff to enjoy out there. I have a lot of regrets from saying no to events with my friends growing up. That's probably why I'm only getting my first holiday overseas this year. If people want to follow your journey, where can they find you?\", headline=\"Any final words, any final words of wisdom from someone who's reached your level\", gist='Athletes Take to the Streets', start=2388590, end=2487860)]\n"
          ]
        }
      ]
    },
    {
      "cell_type": "code",
      "source": [
        "for chapter in transcript.chapters:\n",
        "    print(f\"Start: {chapter.start}, End: {chapter.end}\")\n",
        "    print(f\"Summary: {chapter.summary}\")\n",
        "    print(f\"Headline: {chapter.headline}\")\n",
        "    print(f\"Gist: {chapter.gist}\")"
      ],
      "metadata": {
        "colab": {
          "base_uri": "https://localhost:8080/"
        },
        "id": "GDPHsl2vjEuA",
        "outputId": "d6dc7cf9-b388-4970-a842-0a6b6d95bf3c"
      },
      "execution_count": 54,
      "outputs": [
        {
          "output_type": "stream",
          "name": "stdout",
          "text": [
            "Start: 170, End: 81346\n",
            "Summary:  episode nine of the Evolve podcast. Today we have a very special guest, Jesse Hatabarat. Jesse is a powerlifter, a two time New South Wales state champion. Also talks about the new federation that's coming in Australia, the APA.\n",
            "Headline: Evolve podcast features special guest Jesse Hatabarat from New South Wales\n",
            "Gist: Jesse Hatabarat\n",
            "Start: 81378, End: 157840\n",
            "Summary: Before we start, five rapid fire questions. You can take as long or as little as you need to answer these. If you can choose one for the rest of your life, what would it be? I always have a steak and cheese sandwich after training.\n",
            "Headline: Five rapid fire questions to help you improve after your workout\n",
            "Gist: 5 Rapid Fire Questions\n",
            "Start: 158450, End: 246458\n",
            "Summary: UFC fighters are getting a bit of a spin off in movies. There's a new one with Conor McGregor. If you could attend one sporting event in history, what would it be? UFC.\n",
            "Headline: Question number three. If you could attend one sporting event in history, what would it be\n",
            "Gist: UFC vs WWE\n",
            "Start: 246544, End: 271410\n",
            "Summary: So question number four. What's your life motto? I don't even have a life motto. I think my best life motto that I can think of right now to just show up.\n",
            "Headline: So question number four. What's your life motto\n",
            "Gist: What's Your Life Motto?\n",
            "Start: 272710, End: 335974\n",
            "Summary: Would you rather win nationals with an average total as a result of the favorite bombing out or come second? After the best performance and the best battle of your career, I'd definitely be more happy to come second.\n",
            "Headline: What would you rather win nationals with an average total or come second\n",
            "Gist: What Would You Rather Win\n",
            "Start: 336012, End: 664906\n",
            "Summary: Jesse started at crunch back in 2015 when he was in year eleven and year twelve. Has been in the gym scene for almost ten years now. What would you say were the keys to getting you to where you are now? Was it a mixture of enjoyment and consistency?\n",
            "Headline: Jesse started powerlifting in 2015 when he was in year eleven\n",
            "Gist: Jesse's Story in Powerlifting\n",
            "Start: 664938, End: 1084502\n",
            "Summary: The powerlifter talks about the progression of powerful coaching over the years. He says the best thing that he likes in a coach is the communication. Looking for a perfectionist man is another thing he looks for.\n",
            "Headline: You met your first coach at your first power of Ingym\n",
            "Gist: The Importance of Powerful Coaching\n",
            "Start: 1084636, End: 1100266\n",
            "Summary: He's just so definitive. He'll give you an answer and it's like, less thought for you. It makes my job as an athlete ten times easier. And that's your job's to lift.\n",
            "Headline: He's just so definitive. And I guess that's why I've been under him for so long now\n",
            "Gist: Coach Underwood on His Advice\n",
            "Start: 1100368, End: 1497322\n",
            "Summary: I did competitive swimming prior to stepping foot in the gym. The way that you see me today is built off my discipline from when I was in high school. Transitioning out of high school and into uni was probably the most tough time when it came to training.\n",
            "Headline: You've been training powerlifting for 12 years now\n",
            "Gist: What Made You So Special?\n",
            "Start: 1497376, End: 1518340\n",
            "Summary: One fourth of the way through 2024, 2020. Felt like yesterday. All prior to all the COVID stuff, man. Who stays in it the longest is the winner.\n",
            "Headline: Who stays in it the longest is the winner. We're already through the first month of the year this year\n",
            "Gist: Who Stops in It the Longest?\n",
            "Start: 1518710, End: 1797046\n",
            "Summary: Jesse's first goal for this year is to get himself to nationals. After that, he wants to compete internationally at games and Oceanas. Looking at other sports, do you see yourself in the world of powerlifting?\n",
            "Headline: Looking into the future for Jesse, what are your plans\n",
            "Gist: Jesse on His Future\n",
            "Start: 1797238, End: 1949670\n",
            "Summary: If it's someone that I want to beat, shout out to Callan Givens. That guy's a beast, man. I hope that I can put on enough on my total to make it competitive. It's going to be good to see just the level of competition.\n",
            "Headline: Callan Givens is someone that you want to beat at nationals\n",
            "Gist: Australia's Josh Quinn on\n",
            "Start: 1949740, End: 2181810\n",
            "Summary: Aussie powerlifting is about to get really strong. People are starting to push, man. We're about to enter a really strong time in the world of powerlifting. And using that momentum coming into this new federation, you're just going to see that skyrocket even more.\n",
            "Headline: Sussey: I think the new federation is the perfect solution for Australian powerlifting\n",
            "Gist: The New Federation\n",
            "Start: 2181890, End: 2312558\n",
            "Summary: Australia is at a great competitive level right now. But is there another step when it comes to the entertainment side of powerlifting? People just need to stay consistent with posting stuff to social media. Hopefully Australia will reach that level one day.\n",
            "Headline: Matt: People need to post more on social media ahead of nationals\n",
            "Gist: What's the Future of Powerlifting?\n",
            "Start: 2312644, End: 2388060\n",
            "Summary: Is there anything in particular that you'd want to see out of the new federation? Maybe get more members involved, get the members say every time they want to make a decision. There's a lot of good learning curves that we can use to go into this new year.\n",
            "Headline: Is there anything in particular you'd want to see out of the new fed\n",
            "Gist: A New Fed Federation\n",
            "Start: 2388590, End: 2487860\n",
            "Summary: Don't stop life for training. There's still stuff to enjoy out there. I have a lot of regrets from saying no to events with my friends growing up. That's probably why I'm only getting my first holiday overseas this year. If people want to follow your journey, where can they find you?\n",
            "Headline: Any final words, any final words of wisdom from someone who's reached your level\n",
            "Gist: Athletes Take to the Streets\n"
          ]
        }
      ]
    },
    {
      "cell_type": "code",
      "source": [
        "def ms_to_hms(start):\n",
        "    s, ms = divmod(start, 1000)\n",
        "    m, s = divmod(s, 60)\n",
        "    h, m = divmod(m, 60)\n",
        "    return h, m, s"
      ],
      "metadata": {
        "id": "ribj35tDl5le"
      },
      "execution_count": 55,
      "outputs": []
    },
    {
      "cell_type": "code",
      "source": [
        "def create_timestamps(chapters):\n",
        "  last_hour = ms_to_hms(chapters[-1].start)[0]\n",
        "  time_format = \"{m:02d}:{s:02d}\" if last_hour == 0 else \"{h:02d}:{m:02d}:{s:02d}\"\n",
        "\n",
        "  lines = []\n",
        "  for idx, chapter in enumerate(chapters):\n",
        "        # first YouTube timestamp must be at zero\n",
        "        h, m, s = (0, 0, 0) if idx == 0 else ms_to_hms(chapter.start)\n",
        "        lines.append(f\"{time_format.format(h=h, m=m, s=s)} {chapter.headline}\")\n",
        "\n",
        "  return \"\\n\".join(lines)"
      ],
      "metadata": {
        "id": "6832gMsSl6Qo"
      },
      "execution_count": 56,
      "outputs": []
    },
    {
      "cell_type": "code",
      "source": [
        "timestamp_lines = create_timestamps(transcript.chapters)\n",
        "print(timestamp_lines)"
      ],
      "metadata": {
        "colab": {
          "base_uri": "https://localhost:8080/"
        },
        "id": "oTrJzkhQmJOY",
        "outputId": "45a866cd-f2ef-4fd5-e1f9-bc1eeb46eb6e"
      },
      "execution_count": 57,
      "outputs": [
        {
          "output_type": "stream",
          "name": "stdout",
          "text": [
            "00:00 Evolve podcast features special guest Jesse Hatabarat from New South Wales\n",
            "01:21 Five rapid fire questions to help you improve after your workout\n",
            "02:38 Question number three. If you could attend one sporting event in history, what would it be\n",
            "04:06 So question number four. What's your life motto\n",
            "04:32 What would you rather win nationals with an average total or come second\n",
            "05:36 Jesse started powerlifting in 2015 when he was in year eleven\n",
            "11:04 You met your first coach at your first power of Ingym\n",
            "18:04 He's just so definitive. And I guess that's why I've been under him for so long now\n",
            "18:20 You've been training powerlifting for 12 years now\n",
            "24:57 Who stays in it the longest is the winner. We're already through the first month of the year this year\n",
            "25:18 Looking into the future for Jesse, what are your plans\n",
            "29:57 Callan Givens is someone that you want to beat at nationals\n",
            "32:29 Sussey: I think the new federation is the perfect solution for Australian powerlifting\n",
            "36:21 Matt: People need to post more on social media ahead of nationals\n",
            "38:32 Is there anything in particular you'd want to see out of the new fed\n",
            "39:48 Any final words, any final words of wisdom from someone who's reached your level\n"
          ]
        }
      ]
    },
    {
      "cell_type": "markdown",
      "source": [
        "Definitely a solid start with some potential however it's all over the place. Let's use LLM's in particular LeMUR to improve the output."
      ],
      "metadata": {
        "id": "_Uw51f9po4_S"
      }
    },
    {
      "cell_type": "code",
      "source": [
        "prompt = f\"\"\"\n",
        "ROLE:\n",
        "You are a YouTube content professional. You are very competent and able to come up with catchy names for the different sections of video transcripts that are submitted to you.\n",
        "CONTEXT:\n",
        "This transcript is of a logistics meeting at GitLab\n",
        "INSTRUCTION:\n",
        "You are provided information about the sections of the transcript under TIMESTAMPS, where the format for each line is `<TIMESTAMP> <SECTION SUMMARY>`.\"\n",
        "TIMESTAMPS:\n",
        "{timestamp_lines}\n",
        "FORMAT:\n",
        "<TIMESTAMP> <CATCHY SECTION TITLE>\n",
        "OUTPUT:\n",
        "\"\"\".strip()"
      ],
      "metadata": {
        "id": "ZlcpzD2mmJ1D"
      },
      "execution_count": 58,
      "outputs": []
    },
    {
      "cell_type": "code",
      "source": [
        "result = transcript.lemur.task(prompt)\n",
        "\n",
        "# Extract the response text and print\n",
        "output = result.response.strip()\n",
        "print(output)"
      ],
      "metadata": {
        "colab": {
          "base_uri": "https://localhost:8080/"
        },
        "id": "mW02kS9bmcv5",
        "outputId": "8443ba5b-88d3-4b4b-d427-71c1c2a7896a"
      },
      "execution_count": 59,
      "outputs": [
        {
          "output_type": "stream",
          "name": "stdout",
          "text": [
            "Here are catchy section titles for the transcript timestamps:\n",
            "\n",
            "00:00 Jesse Hatabarat Joins Evolve Podcast  \n",
            "01:21 Rapid Fire Q&A\n",
            "02:38 Dream Sporting Event \n",
            "04:06 Life Motto Revealed\n",
            "04:32 Win Nationals or Come Second?\n",
            "05:36 Jesse's Powerlifting Origin Story  \n",
            "11:04 Meeting His Longtime Coach\n",
            "18:04 The Calculative Coach\n",
            "18:20 12 Years of Powerlifting  \n",
            "24:57 It's a Marathon, Not a Sprint\n",
            "25:18 Jesse's Future Plans\n",
            "29:57 Callan Givens Rivalry  \n",
            "32:29 New Federation Praised\n",
            "36:21 Social Media Push Before Nationals\n",
            "38:32 Ideal New Federation Wishes\n",
            "39:48 Final Words of Wisdom\n"
          ]
        }
      ]
    },
    {
      "cell_type": "code",
      "source": [
        "import re\n",
        "\n",
        "def filter_timestamps(text):\n",
        "    lines = text.splitlines()\n",
        "    timestamped_lines = [line for line in lines if re.match(r'\\d+:\\d+', line)]  # Use regex to filter lines starting with a timestamp\n",
        "    filtered_text = '\\n'.join(timestamped_lines)\n",
        "    return filtered_text\n",
        "\n",
        "filtered_output = filter_timestamps(output)"
      ],
      "metadata": {
        "id": "jG_vOZ3UpIEO"
      },
      "execution_count": 60,
      "outputs": []
    },
    {
      "cell_type": "code",
      "source": [
        "original = timestamp_lines.splitlines()\n",
        "filtered = filtered_output.splitlines()\n",
        "\n",
        "for o, f in zip(original, filtered):\n",
        "    original_time = o.split(' ')[0]\n",
        "    filtered_time = f.split(' ')[0]\n",
        "    if not original_time == filtered_time:\n",
        "        raise RuntimeError(f\"Timestamp mismatch - original timestamp '{original_time}' does not match LLM timestamp '{filtered_time}'\")\n",
        "\n",
        "print(filtered_output)"
      ],
      "metadata": {
        "colab": {
          "base_uri": "https://localhost:8080/"
        },
        "id": "LEeModQyqKM_",
        "outputId": "a2362bf0-cd7e-414f-c063-fc471489ce70"
      },
      "execution_count": 61,
      "outputs": [
        {
          "output_type": "stream",
          "name": "stdout",
          "text": [
            "00:00 Jesse Hatabarat Joins Evolve Podcast  \n",
            "01:21 Rapid Fire Q&A\n",
            "02:38 Dream Sporting Event \n",
            "04:06 Life Motto Revealed\n",
            "04:32 Win Nationals or Come Second?\n",
            "05:36 Jesse's Powerlifting Origin Story  \n",
            "11:04 Meeting His Longtime Coach\n",
            "18:04 The Calculative Coach\n",
            "18:20 12 Years of Powerlifting  \n",
            "24:57 It's a Marathon, Not a Sprint\n",
            "25:18 Jesse's Future Plans\n",
            "29:57 Callan Givens Rivalry  \n",
            "32:29 New Federation Praised\n",
            "36:21 Social Media Push Before Nationals\n",
            "38:32 Ideal New Federation Wishes\n",
            "39:48 Final Words of Wisdom\n"
          ]
        }
      ]
    }
  ]
}