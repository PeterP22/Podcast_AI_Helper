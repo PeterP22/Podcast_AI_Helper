{
  "nbformat": 4,
  "nbformat_minor": 0,
  "metadata": {
    "colab": {
      "provenance": [],
      "machine_shape": "hm",
      "gpuType": "A100"
    },
    "kernelspec": {
      "name": "python3",
      "display_name": "Python 3"
    },
    "language_info": {
      "name": "python"
    },
    "accelerator": "GPU"
  },
  "cells": [
    {
      "cell_type": "markdown",
      "source": [
        "In this notebook I will be utilising the power of AI to help solve a problem related to podcasting at my local gym."
      ],
      "metadata": {
        "id": "3vq3MiSGEwyS"
      }
    },
    {
      "cell_type": "markdown",
      "source": [
        "Let's say you are a busy guy/girl who works full time, trains, has a spouse and also other hobbies/interests. Where do you have the time to actually sit down and watch a 40+ minute podcast with full attention on some of your favourite athletes or figures in the fitness industry? This is where I come in."
      ],
      "metadata": {
        "id": "A-gDrHXKE5ld"
      }
    },
    {
      "cell_type": "code",
      "execution_count": 1,
      "metadata": {
        "id": "6V1UBzzZB3uS"
      },
      "outputs": [],
      "source": [
        "API_TOKEN = \"\" # will be importing my API key so I can use the features in LeMUR to"
      ]
    },
    {
      "cell_type": "code",
      "source": [
        "%pip install \"assemblyai>=0.15\" --quiet # install the AssemblyAI Python SDK which grants us access to LeMUR in just a few short lines of code"
      ],
      "metadata": {
        "colab": {
          "base_uri": "https://localhost:8080/"
        },
        "id": "4BS8hvcFFbri",
        "outputId": "5fff2948-db94-4832-d722-a3ea8ac48bee"
      },
      "execution_count": 2,
      "outputs": [
        {
          "output_type": "stream",
          "name": "stdout",
          "text": [
            "\u001b[?25l     \u001b[90m━━━━━━━━━━━━━━━━━━━━━━━━━━━━━━━━━━━━━━━━\u001b[0m \u001b[32m0.0/65.4 kB\u001b[0m \u001b[31m?\u001b[0m eta \u001b[36m-:--:--\u001b[0m\r\u001b[2K     \u001b[90m━━━━━━━━━━━━━━━━━━━━━━━━━━━━━━━━━━━━━━━━\u001b[0m \u001b[32m65.4/65.4 kB\u001b[0m \u001b[31m2.8 MB/s\u001b[0m eta \u001b[36m0:00:00\u001b[0m\n",
            "\u001b[2K     \u001b[90m━━━━━━━━━━━━━━━━━━━━━━━━━━━━━━━━━━━━━━━━\u001b[0m \u001b[32m75.9/75.9 kB\u001b[0m \u001b[31m5.5 MB/s\u001b[0m eta \u001b[36m0:00:00\u001b[0m\n",
            "\u001b[2K     \u001b[90m━━━━━━━━━━━━━━━━━━━━━━━━━━━━━━━━━━━━━━━━\u001b[0m \u001b[32m130.2/130.2 kB\u001b[0m \u001b[31m9.8 MB/s\u001b[0m eta \u001b[36m0:00:00\u001b[0m\n",
            "\u001b[2K     \u001b[90m━━━━━━━━━━━━━━━━━━━━━━━━━━━━━━━━━━━━━━━━\u001b[0m \u001b[32m77.0/77.0 kB\u001b[0m \u001b[31m7.0 MB/s\u001b[0m eta \u001b[36m0:00:00\u001b[0m\n",
            "\u001b[2K     \u001b[90m━━━━━━━━━━━━━━━━━━━━━━━━━━━━━━━━━━━━━━━━\u001b[0m \u001b[32m58.3/58.3 kB\u001b[0m \u001b[31m8.5 MB/s\u001b[0m eta \u001b[36m0:00:00\u001b[0m\n",
            "\u001b[?25h"
          ]
        }
      ]
    },
    {
      "cell_type": "code",
      "source": [
        "import assemblyai as aai # import the package"
      ],
      "metadata": {
        "id": "cs6UlBEiFkN9"
      },
      "execution_count": 3,
      "outputs": []
    },
    {
      "cell_type": "code",
      "source": [
        "aai.settings.api_key = f\"{API_TOKEN}\" # set the API token"
      ],
      "metadata": {
        "id": "0LWVpTPnFqUN"
      },
      "execution_count": 4,
      "outputs": []
    },
    {
      "cell_type": "code",
      "source": [
        "transcriber = aai.Transcriber() # create a transcriber object\n",
        "transcript = transcriber.transcribe(\"/content/podcasts/Jesse_Hutabarat.mp3\") # transcribe the podcast by passing through the file path located in the podcasts folder\n",
        "if transcript.error:\n",
        "    print(transcript.error)\n",
        "else:\n",
        "    print(\"Success!\")"
      ],
      "metadata": {
        "colab": {
          "base_uri": "https://localhost:8080/"
        },
        "id": "kTXkTOOfFvSZ",
        "outputId": "4839a19f-50d0-4f73-bb5d-ec6b896c9e75"
      },
      "execution_count": 5,
      "outputs": [
        {
          "output_type": "stream",
          "name": "stdout",
          "text": [
            "Success!\n"
          ]
        }
      ]
    },
    {
      "cell_type": "markdown",
      "source": [
        "Successful transcription which means we now have access to a unique transcript ID"
      ],
      "metadata": {
        "id": "NjZtorEsHytZ"
      }
    },
    {
      "cell_type": "code",
      "source": [
        "transcript.id"
      ],
      "metadata": {
        "colab": {
          "base_uri": "https://localhost:8080/",
          "height": 35
        },
        "id": "V9D2v1rRHb34",
        "outputId": "57b06408-6e20-449b-f3cd-e87b061a9db9"
      },
      "execution_count": 6,
      "outputs": [
        {
          "output_type": "execute_result",
          "data": {
            "text/plain": [
              "'4ca0ae8f-41f1-4d40-ae57-db03a3a458e9'"
            ],
            "application/vnd.google.colaboratory.intrinsic+json": {
              "type": "string"
            }
          },
          "metadata": {},
          "execution_count": 6
        }
      ]
    },
    {
      "cell_type": "code",
      "source": [
        "TRANSCRIPT_ID = transcript.id"
      ],
      "metadata": {
        "id": "iXZxJSxGILJu"
      },
      "execution_count": 8,
      "outputs": []
    },
    {
      "cell_type": "code",
      "source": [
        "transcript_from_id = aai.Transcript.get_by_id(TRANSCRIPT_ID)"
      ],
      "metadata": {
        "id": "rFZ4hzkfH7by"
      },
      "execution_count": 10,
      "outputs": []
    },
    {
      "cell_type": "markdown",
      "source": [
        "Now that we have our transcript, we can analyse it\n",
        "1. custom summary\n",
        "2. question answering\n",
        "3. action items"
      ],
      "metadata": {
        "id": "Z7OdWa6CIhP6"
      }
    },
    {
      "cell_type": "code",
      "source": [
        "context = \"Podcast with NSW two times powerlifting champion Jesse Hutabarat at avolve gym\""
      ],
      "metadata": {
        "id": "45hsEA1hIFM-"
      },
      "execution_count": 11,
      "outputs": []
    },
    {
      "cell_type": "code",
      "source": [
        "answer_format = \"A paragraph\""
      ],
      "metadata": {
        "id": "A1CV5dgEIyUs"
      },
      "execution_count": 12,
      "outputs": []
    },
    {
      "cell_type": "code",
      "source": [
        "answer_format = '''**<topic header>**\n",
        "<topic summary>\n",
        "'''"
      ],
      "metadata": {
        "id": "-pMDtT3ZI2og"
      },
      "execution_count": 15,
      "outputs": []
    },
    {
      "cell_type": "code",
      "source": [
        "result = transcript.lemur.summarize(context=context, answer_format=answer_format) # summarise the transcript into the result variable"
      ],
      "metadata": {
        "id": "_FpBNN-UJA49"
      },
      "execution_count": 16,
      "outputs": []
    },
    {
      "cell_type": "code",
      "source": [
        "print(result.response)"
      ],
      "metadata": {
        "colab": {
          "base_uri": "https://localhost:8080/"
        },
        "id": "-uR7BDiKJQTs",
        "outputId": "911df03d-1092-4b5e-f065-6d241d56c6b5"
      },
      "execution_count": 17,
      "outputs": [
        {
          "output_type": "stream",
          "name": "stdout",
          "text": [
            "**Jesse's Powerlifting Journey**\n",
            "\n",
            "Jesse first started lifting weights at Crunch gym in high school in 2015. After finishing year 12, he joined Adonis Athletic where he was first exposed to powerlifting and inspired by the massive squat weights. He eventually tried powerlifting under his first coach there. Jesse has had several coaches over the years and has been with his current coach, Tn, for around five years. Jesse values communication and attention to detail in a coach. \n",
            "\n",
            "**Jesse's Competitive Goals**\n",
            "\n",
            "Jesse aims to compete at the upcoming Australian nationals and potentially an international competition this year. He hopes to total over 800 pounds before attempting IPF Worlds. Jesse shares his philosophies around competing and training long-term in powerlifting.\n"
          ]
        }
      ]
    },
    {
      "cell_type": "code",
      "source": [
        "questions = [\n",
        "    aai.LemurQuestion(\n",
        "        question=\"Tell me about Jesse in more depth and detail\",\n",
        "        answer_format = \"short sentence\"),\n",
        "    aai.LemurQuestion(\n",
        "        question=\"Tell me about Jesse's training\",\n",
        "        answer_format = \"bullet points\"),\n",
        "    aai.LemurQuestion(\n",
        "        question=\"What are jesse's long term goals\",\n",
        "        answer_format = \"short_sentence\"\n",
        "    )\n",
        "]"
      ],
      "metadata": {
        "id": "qYjHfxVbJZ6P"
      },
      "execution_count": 18,
      "outputs": []
    },
    {
      "cell_type": "code",
      "source": [
        "result = transcript.lemur.question(questions) # ask the questions and store them"
      ],
      "metadata": {
        "id": "kwKujwpdLUUj"
      },
      "execution_count": 19,
      "outputs": []
    },
    {
      "cell_type": "code",
      "source": [
        "# Now I will iterate through the results and print out the question and answer in a nice format\n",
        "for i, q in enumerate(result.response):\n",
        "    print(f\"\\nQuestion {i + 1}: {q.question}\")\n",
        "    print(f\"Answer: {q.answer}\")"
      ],
      "metadata": {
        "colab": {
          "base_uri": "https://localhost:8080/"
        },
        "id": "FyM1I95SLb2X",
        "outputId": "36bb00ac-88cc-4bf2-f8bf-e4ef808d2ab7"
      },
      "execution_count": 20,
      "outputs": [
        {
          "output_type": "stream",
          "name": "stdout",
          "text": [
            "\n",
            "Question 1: Tell me about Jesse in more depth and detail\n",
            "Answer: Jesse is a competitive powerlifter who started training at Adonis Granville gym in 2015. He has been training under his current coach TN for over five years.\n",
            "\n",
            "Question 2: Tell me about Jesse's training\n",
            "Answer: - Trained at Adonis Granville gym without a coach initially \n",
            "- Worked with several coaches at the gym over the years\n",
            "- Has trained under coach TN since late 2018/2019\n",
            "- Communicates regularly with TN about training\n",
            "- Appreciates TN's planning and perfectionism\n",
            "\n",
            "Question 3: What are jesse's long term goals\n",
            "Answer: Jesse's long term goals are to total over 800 pounds and qualify for the IPF World Championships.\n"
          ]
        }
      ]
    },
    {
      "cell_type": "code",
      "source": [
        "result = transcript.lemur.action_items(\n",
        "    context = \"Podcast with NSW powerlifting champion Jesse Hutabarat\",\n",
        "    answer_format=\"**<topic header>**\\n<relevant action items>\\n\",\n",
        ")"
      ],
      "metadata": {
        "id": "yy0f-DJFMTgr"
      },
      "execution_count": 21,
      "outputs": []
    },
    {
      "cell_type": "code",
      "source": [
        "print(result.response) # print the action items"
      ],
      "metadata": {
        "colab": {
          "base_uri": "https://localhost:8080/"
        },
        "id": "8FLF0ODEMeyu",
        "outputId": "914c9209-04be-47c1-976d-4baa5a5cc2b0"
      },
      "execution_count": 22,
      "outputs": [
        {
          "output_type": "stream",
          "name": "stdout",
          "text": [
            "\n",
            " **Training and Coaching**\n",
            "- Continue training under coach TN to keep improving technique and maximizing performance \n",
            "- Stick to the training plan TN provides leading up to major competitions\n",
            "- Maintain focus on Nationals in a few months as the next major competition goal\n",
            "\n",
            "**Competition Goals**\n",
            "- Total over 800 lbs in an upcoming competition before attempting to qualify for IPF Worlds\n",
            "- Aim to compete at Oceanias or Pacific Games this year\n",
            "- Defeat rivals Callan Givens and Adam Jones at Nationals   \n",
            "\n",
            "**Sport Development**\n",
            "- Encourage more engagement on social media to help grow powerlifting in Australia\n",
            "- Suggest the new federation forms a lifter committee for better representation\n"
          ]
        }
      ]
    },
    {
      "cell_type": "markdown",
      "source": [
        "Very successful venture. The only small issue I see if that it got confused with pounds and kilograms but other than that it really does a great job."
      ],
      "metadata": {
        "id": "Pj3TWtIwNvUw"
      }
    },
    {
      "cell_type": "code",
      "source": [
        "extra_questions = [\n",
        "    aai.LemurQuestion(\n",
        "        question=\"What is Jesse's mindset towards training?\",\n",
        "        answer_format = \"bullet points\"),\n",
        "]"
      ],
      "metadata": {
        "id": "9CSwtYWZMmP5"
      },
      "execution_count": 23,
      "outputs": []
    },
    {
      "cell_type": "code",
      "source": [
        "extra_result = transcript.lemur.question(extra_questions) # ask the question and store it"
      ],
      "metadata": {
        "id": "Ux9Pu8jJQb4z"
      },
      "execution_count": 24,
      "outputs": []
    },
    {
      "cell_type": "code",
      "source": [
        "# print the question\n",
        "print(extra_result.response[0].question)"
      ],
      "metadata": {
        "colab": {
          "base_uri": "https://localhost:8080/"
        },
        "id": "hLfJKB3QRcPZ",
        "outputId": "bf8afdb0-25bf-4a6f-8bf1-847779f63132"
      },
      "execution_count": 26,
      "outputs": [
        {
          "output_type": "stream",
          "name": "stdout",
          "text": [
            "What is Jesse's mindset towards training?\n"
          ]
        }
      ]
    },
    {
      "cell_type": "code",
      "source": [
        "print(extra_result.response[0].answer)"
      ],
      "metadata": {
        "colab": {
          "base_uri": "https://localhost:8080/"
        },
        "id": "rgHqDmdGQfE1",
        "outputId": "a72ac7f5-0beb-4ae2-afd2-dc97efc0f880"
      },
      "execution_count": 25,
      "outputs": [
        {
          "output_type": "stream",
          "name": "stdout",
          "text": [
            "- Jesse enjoys the process of training and finds it a blessing to be able to lift\n",
            "- He prioritizes consistency and just showing up to the gym\n",
            "- Jesse wants to stay involved in powerlifting long term\n"
          ]
        }
      ]
    }
  ]
}